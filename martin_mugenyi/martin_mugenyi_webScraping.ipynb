{
 "cells": [
  {
   "cell_type": "code",
   "execution_count": 2,
   "metadata": {},
   "outputs": [
    {
     "name": "stdout",
     "output_type": "stream",
     "text": [
      "       id       gen       sp ssp  group                en  \\\n",
      "0  769677  Procnias  averano      birds  Bearded Bellbird   \n",
      "1  769674  Procnias  averano      birds  Bearded Bellbird   \n",
      "2  769479  Procnias  averano      birds  Bearded Bellbird   \n",
      "3  769411  Procnias  averano      birds  Bearded Bellbird   \n",
      "4  769410  Procnias  averano      birds  Bearded Bellbird   \n",
      "\n",
      "                          rec     cnt  \\\n",
      "0  JAYRSON ARAUJO DE OLIVEIRA  Brazil   \n",
      "1  JAYRSON ARAUJO DE OLIVEIRA  Brazil   \n",
      "2  JAYRSON ARAUJO DE OLIVEIRA  Brazil   \n",
      "3  JAYRSON ARAUJO DE OLIVEIRA  Brazil   \n",
      "4  JAYRSON ARAUJO DE OLIVEIRA  Brazil   \n",
      "\n",
      "                                        loc      lat  ... rmk bird-seen  \\\n",
      "0  Porto Franco, Maranhão Ecopousada Brasil  -6.3761  ...           yes   \n",
      "1  Porto Franco, Maranhão Ecopousada Brasil  -6.3761  ...           yes   \n",
      "2  Porto Franco, Maranhão Ecopousada Brasil  -6.3761  ...           yes   \n",
      "3  Porto Franco, Maranhão Ecopousada Brasil  -6.3761  ...           yes   \n",
      "4  Porto Franco, Maranhão Ecopousada Brasil  -6.3761  ...           yes   \n",
      "\n",
      "  animal-seen playback-used temp regnr auto                dvc       mic  \\\n",
      "0         yes            no              no  Panasonic RRUS551  Embutido   \n",
      "1         yes            no              no  Panasonic RRUS551  Embutido   \n",
      "2         yes            no              no  Panasonic RRUS551  Embutido   \n",
      "3         yes            no              no  Panasonic RRUS551  Embutido   \n",
      "4         yes            no              no  Panasonic RRUS551  Embutido   \n",
      "\n",
      "     smp  \n",
      "0  44100  \n",
      "1  44100  \n",
      "2  44100  \n",
      "3  44100  \n",
      "4  44100  \n",
      "\n",
      "[5 rows x 38 columns]\n"
     ]
    }
   ],
   "source": [
    "from bs4 import BeautifulSoup\n",
    "import pandas as pd\n",
    "import requests\n",
    "from pprint import pprint\n",
    "\n",
    "url_species = 'https://xeno-canto.org/api/2/recordings?query=bearded+bellbird+q:A'\n",
    "response = requests.get(url_species)\n",
    "\n",
    "# Parse the JSON response\n",
    "data = response.json()\n",
    "\n",
    "# Extract the \"recordings\" list from the data\n",
    "recordings_list = data['recordings']\n",
    "\n",
    "# Create a DataFrame from the \"recordings\" list\n",
    "df = pd.DataFrame(recordings_list)\n",
    "\n",
    "# Write the DataFrame to a CSV file\n",
    "df.to_csv('bird_dataset1.csv', index=False)\n",
    "\n",
    "# Print the first few rows of the DataFrame (optional)\n",
    "pprint(df.head())\n"
   ]
  },
  {
   "cell_type": "code",
   "execution_count": null,
   "metadata": {},
   "outputs": [],
   "source": [
    "def download(url, file_name):\n",
    "    # Send a GET request to download the audio file\n",
    "    response = requests.get(url)\n",
    "    file_name = f\"audios/{file_name}\"\n",
    "\n",
    "    # Check if the request was successful (status code 200)\n",
    "    if response.status_code == 200:\n",
    "        # Save the audio content to a local file\n",
    "        with open(file_name, \"wb\") as f:\n",
    "            f.write(response.content)\n",
    "        print(\"Audio downloaded successfully.\")\n",
    "    else:\n",
    "        print(f\"Failed to download audio. Status code: {response.status_code}\")\n"
   ]
  },
  {
   "cell_type": "code",
   "execution_count": null,
   "metadata": {},
   "outputs": [],
   "source": []
  },
  {
   "cell_type": "code",
   "execution_count": null,
   "metadata": {},
   "outputs": [],
   "source": [
    "for file, file_name in zip(df[\"file\"], df[\"file-name\"]):\n",
    "    download(file, file_name)\n",
    "    print(\"Downloaded {file_name}\".format(file_name=file_name))"
   ]
  },
  {
   "cell_type": "code",
   "execution_count": null,
   "metadata": {},
   "outputs": [],
   "source": []
  }
 ],
 "metadata": {
  "kernelspec": {
   "display_name": "Python 3",
   "language": "python",
   "name": "python3"
  },
  "language_info": {
   "codemirror_mode": {
    "name": "ipython",
    "version": 3
   },
   "file_extension": ".py",
   "mimetype": "text/x-python",
   "name": "python",
   "nbconvert_exporter": "python",
   "pygments_lexer": "ipython3",
   "version": "3.11.4"
  },
  "orig_nbformat": 4
 },
 "nbformat": 4,
 "nbformat_minor": 2
}
